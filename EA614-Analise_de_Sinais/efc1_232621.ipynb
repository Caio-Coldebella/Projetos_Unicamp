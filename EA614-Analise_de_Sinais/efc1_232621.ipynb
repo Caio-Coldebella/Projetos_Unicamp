{
  "nbformat": 4,
  "nbformat_minor": 0,
  "metadata": {
    "colab": {
      "name": "efc1_232621.ipynb",
      "provenance": []
    },
    "kernelspec": {
      "name": "python3",
      "display_name": "Python 3"
    },
    "language_info": {
      "name": "python"
    }
  },
  "cells": [
    {
      "cell_type": "code",
      "execution_count": null,
      "metadata": {
        "id": "zMaAW9mdbjQi"
      },
      "outputs": [],
      "source": [
        "#Aluno: Caio Ruiz Coldebella\n",
        "#RA: 232621\n",
        "import numpy as np"
      ]
    },
    {
      "cell_type": "code",
      "source": [
        "from numpy.ma.core import ones\n",
        "# h = delta(n) - 1/2 delta(n-1)\n",
        "h = np.array(ones(5))\n",
        "for i in range(0,5):\n",
        "  h[i] = 1 - 0.5\n",
        "w1 = np.array([1, 0.5, 0.5**2, 0.5**3, 0.5**4])\n",
        "w2 = np.array([1, -0.75, 1.5, -0.2, 0.3])\n",
        "g1 = np.convolve(h,w1,mode='valid')\n",
        "g2 = np.convolve(h,w2,mode='valid')\n",
        "np.set_printoptions(threshold=np.inf,linewidth=100)\n",
        "print(g1)\n",
        "print(g2)\n",
        "#Tendo em vista a tarefa desejada na equalizacap, o filtro w1 parece equalizar melhor a entrada,\n",
        "# visto que a sua convolucao na regiao valida foi um valor mais proximo de 1"
      ],
      "metadata": {
        "colab": {
          "base_uri": "https://localhost:8080/"
        },
        "id": "ko4AZzoXb0pY",
        "outputId": "1230e03d-adfd-4747-fab6-ff95c9576c12"
      },
      "execution_count": null,
      "outputs": [
        {
          "output_type": "stream",
          "name": "stdout",
          "text": [
            "[0.96875]\n",
            "[0.925]\n"
          ]
        }
      ]
    },
    {
      "cell_type": "code",
      "source": [
        "import matplotlib.pyplot as plt\n",
        "s = np.random.uniform(0,1,100)\n",
        "s[np.where(s< 0.25)] = 3\n",
        "s[np.where(s< 0.5)] = 1\n",
        "s[np.where(np.abs(s)< 0.75)] = -1\n",
        "s[np.where(np.abs(s)< 1)] = -3\n",
        "x = np.convolve(s,h,mode='same')\n",
        "plt.hist(s)"
      ],
      "metadata": {
        "colab": {
          "base_uri": "https://localhost:8080/",
          "height": 317
        },
        "id": "TbH0HVcEss4H",
        "outputId": "4ab74db4-f131-455c-e0f5-77ddd528e0ba"
      },
      "execution_count": null,
      "outputs": [
        {
          "output_type": "execute_result",
          "data": {
            "text/plain": [
              "(array([25.,  0.,  0., 22.,  0.,  0., 30.,  0.,  0., 23.]),\n",
              " array([-3. , -2.4, -1.8, -1.2, -0.6,  0. ,  0.6,  1.2,  1.8,  2.4,  3. ]),\n",
              " <a list of 10 Patch objects>)"
            ]
          },
          "metadata": {},
          "execution_count": 44
        },
        {
          "output_type": "display_data",
          "data": {
            "text/plain": [
              "<Figure size 432x288 with 1 Axes>"
            ],
            "image/png": "[encoded data removed]"
          },
          "metadata": {
            "needs_background": "light"
          }
        }
      ]
    },
    {
      "cell_type": "code",
      "source": [
        "plt.hist(x,range(-10,10))"
      ],
      "metadata": {
        "colab": {
          "base_uri": "https://localhost:8080/",
          "height": 352
        },
        "id": "m5hp4Ywyu6vH",
        "outputId": "c857c972-16ee-45b6-8673-60c28d7d8bc6"
      },
      "execution_count": null,
      "outputs": [
        {
          "output_type": "execute_result",
          "data": {
            "text/plain": [
              "(array([ 0.,  0.,  0.,  1.,  2.,  1.,  5.,  8., 23., 11., 13.,  9., 15.,  7.,  3.,  1.,  1.,  0.,\n",
              "         0.]),\n",
              " array([-10,  -9,  -8,  -7,  -6,  -5,  -4,  -3,  -2,  -1,   0,   1,   2,   3,   4,   5,   6,   7,\n",
              "          8,   9]),\n",
              " <a list of 19 Patch objects>)"
            ]
          },
          "metadata": {},
          "execution_count": 45
        },
        {
          "output_type": "display_data",
          "data": {
            "text/plain": [
              "<Figure size 432x288 with 1 Axes>"
            ],
            "image/png": "[encoded data removed]"
          },
          "metadata": {
            "needs_background": "light"
          }
        }
      ]
    },
    {
      "cell_type": "markdown",
      "source": [
        "Vemos que o sinal x[n] é uma distorção bastante forte de s[n], porém a maior parte dos valores de x[n] permanecem próximos aos valores de -1, 1, -3 e 3"
      ],
      "metadata": {
        "id": "fP8NuktHwNhB"
      }
    },
    {
      "cell_type": "code",
      "source": [
        "y1 = np.convolve(x,w1,mode=\"same\")\n",
        "y2 = np.convolve(x,w2,mode=\"same\")\n",
        "print(np.size(y1))\n",
        "xaxis = np.linspace(0,99,100)\n",
        "plt.figure(figsize=(12,4))\n",
        "plt.bar(xaxis,y1,color=\"red\")\n",
        "plt.bar(xaxis,s,color=\"blue\")\n",
        "plt.title(\"s[n] x y1[n]\")\n",
        "plt.xlabel(\"n\")\n",
        "plt.ylabel(\"y[n]\")\n",
        "plt.legend([\"y1\",\"s\"])\n",
        "plt.show()"
      ],
      "metadata": {
        "colab": {
          "base_uri": "https://localhost:8080/",
          "height": 312
        },
        "id": "KA1JuC_dwi4F",
        "outputId": "55dc629e-23fb-4938-805d-a1c6773fe97c"
      },
      "execution_count": null,
      "outputs": [
        {
          "output_type": "stream",
          "name": "stdout",
          "text": [
            "100\n"
          ]
        },
        {
          "output_type": "display_data",
          "data": {
            "text/plain": [
              "<Figure size 864x288 with 1 Axes>"
            ],
            "image/png": "[encoded data removed]"
          },
          "metadata": {
            "needs_background": "light"
          }
        }
      ]
    },
    {
      "cell_type": "code",
      "source": [
        "plt.figure(figsize=(12,4))\n",
        "plt.bar(xaxis,y2,color=\"red\")\n",
        "plt.bar(xaxis,s,color=\"blue\")\n",
        "plt.title(\"s[n] x y2[n]\")\n",
        "plt.xlabel(\"n\")\n",
        "plt.ylabel(\"y[n]\")\n",
        "plt.legend([\"y2\",\"s\"])\n",
        "plt.show()"
      ],
      "metadata": {
        "colab": {
          "base_uri": "https://localhost:8080/",
          "height": 295
        },
        "id": "JAmM3e8wHxyV",
        "outputId": "a17e8dcb-755e-4729-eea2-667ef2c49d4e"
      },
      "execution_count": null,
      "outputs": [
        {
          "output_type": "display_data",
          "data": {
            "text/plain": [
              "<Figure size 864x288 with 1 Axes>"
            ],
            "image/png": "[encoded data removed]"
          },
          "metadata": {
            "needs_background": "light"
          }
        }
      ]
    },
    {
      "cell_type": "markdown",
      "source": [
        "Vemos que, apesar de os valores de g1 e g2 terem se aproximado de 1,nenhuma das saídas se aproximou da entrada s[n] após primeiro convoluir s[n]x h[n] e depois convoluir x[n] x y1[n] ou x[n] x y2[n], isso se deve em parte ao fato das respostas ao impulso serem definidas para entradas infinitas, e neste experimento utilizamos entradas finitas"
      ],
      "metadata": {
        "id": "yeARrJANJAtC"
      }
    }
  ]
}